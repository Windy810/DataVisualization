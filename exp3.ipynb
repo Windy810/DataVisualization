{
 "cells": [
  {
   "cell_type": "markdown",
   "metadata": {},
   "source": [
    "1、\t引入matplotlib、pandas、numpy等相关包"
   ]
  },
  {
   "cell_type": "code",
   "execution_count": 2,
   "metadata": {},
   "outputs": [],
   "source": [
    "import matplotlib.pyplot as plt\n",
    "import pandas as pd\n",
    "import numpy as np"
   ]
  },
  {
   "cell_type": "markdown",
   "metadata": {},
   "source": [
    "2、\t设置rc参数，使matplotlib能够支持显示中文和正常显示符号"
   ]
  },
  {
   "cell_type": "code",
   "execution_count": 3,
   "metadata": {},
   "outputs": [],
   "source": [
    "plt.rcParams['font.sans-serif']=['SimHei'] #显示中文标签\n",
    "plt.rcParams['axes.unicode_minus'] = False ## 设置正常显示符号"
   ]
  },
  {
   "cell_type": "markdown",
   "metadata": {},
   "source": [
    "3、\t用pandas读入directory.csv数据"
   ]
  },
  {
   "cell_type": "code",
   "execution_count": 4,
   "metadata": {},
   "outputs": [],
   "source": [
    "csv_path=\"./directory.csv\"\n",
    "df = pd.read_csv(csv_path)"
   ]
  },
  {
   "cell_type": "markdown",
   "metadata": {},
   "source": [
    "4、\t查看数据信息"
   ]
  },
  {
   "cell_type": "code",
   "execution_count": 5,
   "metadata": {},
   "outputs": [
    {
     "data": {
      "text/html": [
       "<div>\n",
       "<style scoped>\n",
       "    .dataframe tbody tr th:only-of-type {\n",
       "        vertical-align: middle;\n",
       "    }\n",
       "\n",
       "    .dataframe tbody tr th {\n",
       "        vertical-align: top;\n",
       "    }\n",
       "\n",
       "    .dataframe thead th {\n",
       "        text-align: right;\n",
       "    }\n",
       "</style>\n",
       "<table border=\"1\" class=\"dataframe\">\n",
       "  <thead>\n",
       "    <tr style=\"text-align: right;\">\n",
       "      <th></th>\n",
       "      <th>Brand</th>\n",
       "      <th>Store Number</th>\n",
       "      <th>Store Name</th>\n",
       "      <th>Ownership Type</th>\n",
       "      <th>Street Address</th>\n",
       "      <th>City</th>\n",
       "      <th>State/Province</th>\n",
       "      <th>Country</th>\n",
       "      <th>Postcode</th>\n",
       "      <th>Phone Number</th>\n",
       "      <th>Timezone</th>\n",
       "      <th>Longitude</th>\n",
       "      <th>Latitude</th>\n",
       "    </tr>\n",
       "  </thead>\n",
       "  <tbody>\n",
       "    <tr>\n",
       "      <th>0</th>\n",
       "      <td>Starbucks</td>\n",
       "      <td>47370-257954</td>\n",
       "      <td>Meritxell, 96</td>\n",
       "      <td>Licensed</td>\n",
       "      <td>Av. Meritxell, 96</td>\n",
       "      <td>Andorra la Vella</td>\n",
       "      <td>7</td>\n",
       "      <td>AD</td>\n",
       "      <td>AD500</td>\n",
       "      <td>376818720</td>\n",
       "      <td>GMT+1:00 Europe/Andorra</td>\n",
       "      <td>1.53</td>\n",
       "      <td>42.51</td>\n",
       "    </tr>\n",
       "    <tr>\n",
       "      <th>1</th>\n",
       "      <td>Starbucks</td>\n",
       "      <td>22331-212325</td>\n",
       "      <td>Ajman Drive Thru</td>\n",
       "      <td>Licensed</td>\n",
       "      <td>1 Street 69, Al Jarf</td>\n",
       "      <td>Ajman</td>\n",
       "      <td>AJ</td>\n",
       "      <td>AE</td>\n",
       "      <td>NaN</td>\n",
       "      <td>NaN</td>\n",
       "      <td>GMT+04:00 Asia/Dubai</td>\n",
       "      <td>55.47</td>\n",
       "      <td>25.42</td>\n",
       "    </tr>\n",
       "    <tr>\n",
       "      <th>2</th>\n",
       "      <td>Starbucks</td>\n",
       "      <td>47089-256771</td>\n",
       "      <td>Dana Mall</td>\n",
       "      <td>Licensed</td>\n",
       "      <td>Sheikh Khalifa Bin Zayed St.</td>\n",
       "      <td>Ajman</td>\n",
       "      <td>AJ</td>\n",
       "      <td>AE</td>\n",
       "      <td>NaN</td>\n",
       "      <td>NaN</td>\n",
       "      <td>GMT+04:00 Asia/Dubai</td>\n",
       "      <td>55.47</td>\n",
       "      <td>25.39</td>\n",
       "    </tr>\n",
       "    <tr>\n",
       "      <th>3</th>\n",
       "      <td>Starbucks</td>\n",
       "      <td>22126-218024</td>\n",
       "      <td>Twofour 54</td>\n",
       "      <td>Licensed</td>\n",
       "      <td>Al Salam Street</td>\n",
       "      <td>Abu Dhabi</td>\n",
       "      <td>AZ</td>\n",
       "      <td>AE</td>\n",
       "      <td>NaN</td>\n",
       "      <td>NaN</td>\n",
       "      <td>GMT+04:00 Asia/Dubai</td>\n",
       "      <td>54.38</td>\n",
       "      <td>24.48</td>\n",
       "    </tr>\n",
       "    <tr>\n",
       "      <th>4</th>\n",
       "      <td>Starbucks</td>\n",
       "      <td>17127-178586</td>\n",
       "      <td>Al Ain Tower</td>\n",
       "      <td>Licensed</td>\n",
       "      <td>Khaldiya Area, Abu Dhabi Island</td>\n",
       "      <td>Abu Dhabi</td>\n",
       "      <td>AZ</td>\n",
       "      <td>AE</td>\n",
       "      <td>NaN</td>\n",
       "      <td>NaN</td>\n",
       "      <td>GMT+04:00 Asia/Dubai</td>\n",
       "      <td>54.54</td>\n",
       "      <td>24.51</td>\n",
       "    </tr>\n",
       "    <tr>\n",
       "      <th>...</th>\n",
       "      <td>...</td>\n",
       "      <td>...</td>\n",
       "      <td>...</td>\n",
       "      <td>...</td>\n",
       "      <td>...</td>\n",
       "      <td>...</td>\n",
       "      <td>...</td>\n",
       "      <td>...</td>\n",
       "      <td>...</td>\n",
       "      <td>...</td>\n",
       "      <td>...</td>\n",
       "      <td>...</td>\n",
       "      <td>...</td>\n",
       "    </tr>\n",
       "    <tr>\n",
       "      <th>25595</th>\n",
       "      <td>Starbucks</td>\n",
       "      <td>21401-212072</td>\n",
       "      <td>Rex</td>\n",
       "      <td>Licensed</td>\n",
       "      <td>141 Nguyễn Huệ, Quận 1, Góc đường Pasteur và L...</td>\n",
       "      <td>Thành Phố Hồ Chí Minh</td>\n",
       "      <td>SG</td>\n",
       "      <td>VN</td>\n",
       "      <td>70000</td>\n",
       "      <td>08 3824 4668</td>\n",
       "      <td>GMT+000000 Asia/Saigon</td>\n",
       "      <td>106.70</td>\n",
       "      <td>10.78</td>\n",
       "    </tr>\n",
       "    <tr>\n",
       "      <th>25596</th>\n",
       "      <td>Starbucks</td>\n",
       "      <td>24010-226985</td>\n",
       "      <td>Panorama</td>\n",
       "      <td>Licensed</td>\n",
       "      <td>SN-44, Tòa Nhà Panorama, 208 Trần Văn Trà, Quận 7</td>\n",
       "      <td>Thành Phố Hồ Chí Minh</td>\n",
       "      <td>SG</td>\n",
       "      <td>VN</td>\n",
       "      <td>70000</td>\n",
       "      <td>08 5413 8292</td>\n",
       "      <td>GMT+000000 Asia/Saigon</td>\n",
       "      <td>106.71</td>\n",
       "      <td>10.72</td>\n",
       "    </tr>\n",
       "    <tr>\n",
       "      <th>25597</th>\n",
       "      <td>Starbucks</td>\n",
       "      <td>47608-253804</td>\n",
       "      <td>Rosebank Mall</td>\n",
       "      <td>Licensed</td>\n",
       "      <td>Cnr Tyrwhitt and Cradock Avenue, Rosebank</td>\n",
       "      <td>Johannesburg</td>\n",
       "      <td>GT</td>\n",
       "      <td>ZA</td>\n",
       "      <td>2194</td>\n",
       "      <td>27873500159</td>\n",
       "      <td>GMT+000000 Africa/Johannesburg</td>\n",
       "      <td>28.04</td>\n",
       "      <td>-26.15</td>\n",
       "    </tr>\n",
       "    <tr>\n",
       "      <th>25598</th>\n",
       "      <td>Starbucks</td>\n",
       "      <td>47640-253809</td>\n",
       "      <td>Menlyn Maine</td>\n",
       "      <td>Licensed</td>\n",
       "      <td>Shop 61B, Central Square, Cnr Aramist &amp; Coroba...</td>\n",
       "      <td>Menlyn</td>\n",
       "      <td>GT</td>\n",
       "      <td>ZA</td>\n",
       "      <td>181</td>\n",
       "      <td>NaN</td>\n",
       "      <td>GMT+000000 Africa/Johannesburg</td>\n",
       "      <td>28.28</td>\n",
       "      <td>-25.79</td>\n",
       "    </tr>\n",
       "    <tr>\n",
       "      <th>25599</th>\n",
       "      <td>Starbucks</td>\n",
       "      <td>47609-253286</td>\n",
       "      <td>Mall of Africa</td>\n",
       "      <td>Licensed</td>\n",
       "      <td>Shop 2077, Upper Level, Waterfall City</td>\n",
       "      <td>Midrand</td>\n",
       "      <td>GT</td>\n",
       "      <td>ZA</td>\n",
       "      <td>1682</td>\n",
       "      <td>27873500215</td>\n",
       "      <td>GMT+000000 Africa/Johannesburg</td>\n",
       "      <td>28.11</td>\n",
       "      <td>-26.02</td>\n",
       "    </tr>\n",
       "  </tbody>\n",
       "</table>\n",
       "<p>25600 rows × 13 columns</p>\n",
       "</div>"
      ],
      "text/plain": [
       "           Brand  Store Number        Store Name Ownership Type  \\\n",
       "0      Starbucks  47370-257954     Meritxell, 96       Licensed   \n",
       "1      Starbucks  22331-212325  Ajman Drive Thru       Licensed   \n",
       "2      Starbucks  47089-256771         Dana Mall       Licensed   \n",
       "3      Starbucks  22126-218024        Twofour 54       Licensed   \n",
       "4      Starbucks  17127-178586      Al Ain Tower       Licensed   \n",
       "...          ...           ...               ...            ...   \n",
       "25595  Starbucks  21401-212072               Rex       Licensed   \n",
       "25596  Starbucks  24010-226985          Panorama       Licensed   \n",
       "25597  Starbucks  47608-253804     Rosebank Mall       Licensed   \n",
       "25598  Starbucks  47640-253809      Menlyn Maine       Licensed   \n",
       "25599  Starbucks  47609-253286    Mall of Africa       Licensed   \n",
       "\n",
       "                                          Street Address  \\\n",
       "0                                      Av. Meritxell, 96   \n",
       "1                                   1 Street 69, Al Jarf   \n",
       "2                           Sheikh Khalifa Bin Zayed St.   \n",
       "3                                        Al Salam Street   \n",
       "4                        Khaldiya Area, Abu Dhabi Island   \n",
       "...                                                  ...   \n",
       "25595  141 Nguyễn Huệ, Quận 1, Góc đường Pasteur và L...   \n",
       "25596  SN-44, Tòa Nhà Panorama, 208 Trần Văn Trà, Quận 7   \n",
       "25597          Cnr Tyrwhitt and Cradock Avenue, Rosebank   \n",
       "25598  Shop 61B, Central Square, Cnr Aramist & Coroba...   \n",
       "25599             Shop 2077, Upper Level, Waterfall City   \n",
       "\n",
       "                        City State/Province Country Postcode  Phone Number  \\\n",
       "0           Andorra la Vella              7      AD    AD500     376818720   \n",
       "1                      Ajman             AJ      AE      NaN           NaN   \n",
       "2                      Ajman             AJ      AE      NaN           NaN   \n",
       "3                  Abu Dhabi             AZ      AE      NaN           NaN   \n",
       "4                  Abu Dhabi             AZ      AE      NaN           NaN   \n",
       "...                      ...            ...     ...      ...           ...   \n",
       "25595  Thành Phố Hồ Chí Minh             SG      VN    70000  08 3824 4668   \n",
       "25596  Thành Phố Hồ Chí Minh             SG      VN    70000  08 5413 8292   \n",
       "25597           Johannesburg             GT      ZA     2194   27873500159   \n",
       "25598                 Menlyn             GT      ZA      181           NaN   \n",
       "25599                Midrand             GT      ZA     1682   27873500215   \n",
       "\n",
       "                             Timezone  Longitude  Latitude  \n",
       "0             GMT+1:00 Europe/Andorra       1.53     42.51  \n",
       "1                GMT+04:00 Asia/Dubai      55.47     25.42  \n",
       "2                GMT+04:00 Asia/Dubai      55.47     25.39  \n",
       "3                GMT+04:00 Asia/Dubai      54.38     24.48  \n",
       "4                GMT+04:00 Asia/Dubai      54.54     24.51  \n",
       "...                               ...        ...       ...  \n",
       "25595          GMT+000000 Asia/Saigon     106.70     10.78  \n",
       "25596          GMT+000000 Asia/Saigon     106.71     10.72  \n",
       "25597  GMT+000000 Africa/Johannesburg      28.04    -26.15  \n",
       "25598  GMT+000000 Africa/Johannesburg      28.28    -25.79  \n",
       "25599  GMT+000000 Africa/Johannesburg      28.11    -26.02  \n",
       "\n",
       "[25600 rows x 13 columns]"
      ]
     },
     "execution_count": 5,
     "metadata": {},
     "output_type": "execute_result"
    }
   ],
   "source": [
    "df"
   ]
  },
  {
   "cell_type": "markdown",
   "metadata": {},
   "source": [
    "5、\t统计缺失值"
   ]
  },
  {
   "cell_type": "code",
   "execution_count": 6,
   "metadata": {},
   "outputs": [
    {
     "data": {
      "text/plain": [
       "Brand                0\n",
       "Store Number         0\n",
       "Store Name           0\n",
       "Ownership Type       0\n",
       "Street Address       2\n",
       "City                15\n",
       "State/Province       0\n",
       "Country              0\n",
       "Postcode          1522\n",
       "Phone Number      6861\n",
       "Timezone             0\n",
       "Longitude            1\n",
       "Latitude             1\n",
       "dtype: int64"
      ]
     },
     "execution_count": 6,
     "metadata": {},
     "output_type": "execute_result"
    }
   ],
   "source": [
    "df.isnull().sum()"
   ]
  },
  {
   "cell_type": "markdown",
   "metadata": {},
   "source": [
    "6、\t将City列中，有缺失值的行删除"
   ]
  },
  {
   "cell_type": "code",
   "execution_count": 7,
   "metadata": {},
   "outputs": [
    {
     "data": {
      "text/html": [
       "<div>\n",
       "<style scoped>\n",
       "    .dataframe tbody tr th:only-of-type {\n",
       "        vertical-align: middle;\n",
       "    }\n",
       "\n",
       "    .dataframe tbody tr th {\n",
       "        vertical-align: top;\n",
       "    }\n",
       "\n",
       "    .dataframe thead th {\n",
       "        text-align: right;\n",
       "    }\n",
       "</style>\n",
       "<table border=\"1\" class=\"dataframe\">\n",
       "  <thead>\n",
       "    <tr style=\"text-align: right;\">\n",
       "      <th></th>\n",
       "      <th>Brand</th>\n",
       "      <th>Store Number</th>\n",
       "      <th>Store Name</th>\n",
       "      <th>Ownership Type</th>\n",
       "      <th>Street Address</th>\n",
       "      <th>City</th>\n",
       "      <th>State/Province</th>\n",
       "      <th>Country</th>\n",
       "      <th>Postcode</th>\n",
       "      <th>Phone Number</th>\n",
       "      <th>Timezone</th>\n",
       "      <th>Longitude</th>\n",
       "      <th>Latitude</th>\n",
       "    </tr>\n",
       "  </thead>\n",
       "  <tbody>\n",
       "    <tr>\n",
       "      <th>0</th>\n",
       "      <td>Starbucks</td>\n",
       "      <td>47370-257954</td>\n",
       "      <td>Meritxell, 96</td>\n",
       "      <td>Licensed</td>\n",
       "      <td>Av. Meritxell, 96</td>\n",
       "      <td>Andorra la Vella</td>\n",
       "      <td>7</td>\n",
       "      <td>AD</td>\n",
       "      <td>AD500</td>\n",
       "      <td>376818720</td>\n",
       "      <td>GMT+1:00 Europe/Andorra</td>\n",
       "      <td>1.53</td>\n",
       "      <td>42.51</td>\n",
       "    </tr>\n",
       "    <tr>\n",
       "      <th>1</th>\n",
       "      <td>Starbucks</td>\n",
       "      <td>22331-212325</td>\n",
       "      <td>Ajman Drive Thru</td>\n",
       "      <td>Licensed</td>\n",
       "      <td>1 Street 69, Al Jarf</td>\n",
       "      <td>Ajman</td>\n",
       "      <td>AJ</td>\n",
       "      <td>AE</td>\n",
       "      <td>NaN</td>\n",
       "      <td>NaN</td>\n",
       "      <td>GMT+04:00 Asia/Dubai</td>\n",
       "      <td>55.47</td>\n",
       "      <td>25.42</td>\n",
       "    </tr>\n",
       "    <tr>\n",
       "      <th>2</th>\n",
       "      <td>Starbucks</td>\n",
       "      <td>47089-256771</td>\n",
       "      <td>Dana Mall</td>\n",
       "      <td>Licensed</td>\n",
       "      <td>Sheikh Khalifa Bin Zayed St.</td>\n",
       "      <td>Ajman</td>\n",
       "      <td>AJ</td>\n",
       "      <td>AE</td>\n",
       "      <td>NaN</td>\n",
       "      <td>NaN</td>\n",
       "      <td>GMT+04:00 Asia/Dubai</td>\n",
       "      <td>55.47</td>\n",
       "      <td>25.39</td>\n",
       "    </tr>\n",
       "    <tr>\n",
       "      <th>3</th>\n",
       "      <td>Starbucks</td>\n",
       "      <td>22126-218024</td>\n",
       "      <td>Twofour 54</td>\n",
       "      <td>Licensed</td>\n",
       "      <td>Al Salam Street</td>\n",
       "      <td>Abu Dhabi</td>\n",
       "      <td>AZ</td>\n",
       "      <td>AE</td>\n",
       "      <td>NaN</td>\n",
       "      <td>NaN</td>\n",
       "      <td>GMT+04:00 Asia/Dubai</td>\n",
       "      <td>54.38</td>\n",
       "      <td>24.48</td>\n",
       "    </tr>\n",
       "    <tr>\n",
       "      <th>4</th>\n",
       "      <td>Starbucks</td>\n",
       "      <td>17127-178586</td>\n",
       "      <td>Al Ain Tower</td>\n",
       "      <td>Licensed</td>\n",
       "      <td>Khaldiya Area, Abu Dhabi Island</td>\n",
       "      <td>Abu Dhabi</td>\n",
       "      <td>AZ</td>\n",
       "      <td>AE</td>\n",
       "      <td>NaN</td>\n",
       "      <td>NaN</td>\n",
       "      <td>GMT+04:00 Asia/Dubai</td>\n",
       "      <td>54.54</td>\n",
       "      <td>24.51</td>\n",
       "    </tr>\n",
       "    <tr>\n",
       "      <th>...</th>\n",
       "      <td>...</td>\n",
       "      <td>...</td>\n",
       "      <td>...</td>\n",
       "      <td>...</td>\n",
       "      <td>...</td>\n",
       "      <td>...</td>\n",
       "      <td>...</td>\n",
       "      <td>...</td>\n",
       "      <td>...</td>\n",
       "      <td>...</td>\n",
       "      <td>...</td>\n",
       "      <td>...</td>\n",
       "      <td>...</td>\n",
       "    </tr>\n",
       "    <tr>\n",
       "      <th>25595</th>\n",
       "      <td>Starbucks</td>\n",
       "      <td>21401-212072</td>\n",
       "      <td>Rex</td>\n",
       "      <td>Licensed</td>\n",
       "      <td>141 Nguyễn Huệ, Quận 1, Góc đường Pasteur và L...</td>\n",
       "      <td>Thành Phố Hồ Chí Minh</td>\n",
       "      <td>SG</td>\n",
       "      <td>VN</td>\n",
       "      <td>70000</td>\n",
       "      <td>08 3824 4668</td>\n",
       "      <td>GMT+000000 Asia/Saigon</td>\n",
       "      <td>106.70</td>\n",
       "      <td>10.78</td>\n",
       "    </tr>\n",
       "    <tr>\n",
       "      <th>25596</th>\n",
       "      <td>Starbucks</td>\n",
       "      <td>24010-226985</td>\n",
       "      <td>Panorama</td>\n",
       "      <td>Licensed</td>\n",
       "      <td>SN-44, Tòa Nhà Panorama, 208 Trần Văn Trà, Quận 7</td>\n",
       "      <td>Thành Phố Hồ Chí Minh</td>\n",
       "      <td>SG</td>\n",
       "      <td>VN</td>\n",
       "      <td>70000</td>\n",
       "      <td>08 5413 8292</td>\n",
       "      <td>GMT+000000 Asia/Saigon</td>\n",
       "      <td>106.71</td>\n",
       "      <td>10.72</td>\n",
       "    </tr>\n",
       "    <tr>\n",
       "      <th>25597</th>\n",
       "      <td>Starbucks</td>\n",
       "      <td>47608-253804</td>\n",
       "      <td>Rosebank Mall</td>\n",
       "      <td>Licensed</td>\n",
       "      <td>Cnr Tyrwhitt and Cradock Avenue, Rosebank</td>\n",
       "      <td>Johannesburg</td>\n",
       "      <td>GT</td>\n",
       "      <td>ZA</td>\n",
       "      <td>2194</td>\n",
       "      <td>27873500159</td>\n",
       "      <td>GMT+000000 Africa/Johannesburg</td>\n",
       "      <td>28.04</td>\n",
       "      <td>-26.15</td>\n",
       "    </tr>\n",
       "    <tr>\n",
       "      <th>25598</th>\n",
       "      <td>Starbucks</td>\n",
       "      <td>47640-253809</td>\n",
       "      <td>Menlyn Maine</td>\n",
       "      <td>Licensed</td>\n",
       "      <td>Shop 61B, Central Square, Cnr Aramist &amp; Coroba...</td>\n",
       "      <td>Menlyn</td>\n",
       "      <td>GT</td>\n",
       "      <td>ZA</td>\n",
       "      <td>181</td>\n",
       "      <td>NaN</td>\n",
       "      <td>GMT+000000 Africa/Johannesburg</td>\n",
       "      <td>28.28</td>\n",
       "      <td>-25.79</td>\n",
       "    </tr>\n",
       "    <tr>\n",
       "      <th>25599</th>\n",
       "      <td>Starbucks</td>\n",
       "      <td>47609-253286</td>\n",
       "      <td>Mall of Africa</td>\n",
       "      <td>Licensed</td>\n",
       "      <td>Shop 2077, Upper Level, Waterfall City</td>\n",
       "      <td>Midrand</td>\n",
       "      <td>GT</td>\n",
       "      <td>ZA</td>\n",
       "      <td>1682</td>\n",
       "      <td>27873500215</td>\n",
       "      <td>GMT+000000 Africa/Johannesburg</td>\n",
       "      <td>28.11</td>\n",
       "      <td>-26.02</td>\n",
       "    </tr>\n",
       "  </tbody>\n",
       "</table>\n",
       "<p>25585 rows × 13 columns</p>\n",
       "</div>"
      ],
      "text/plain": [
       "           Brand  Store Number        Store Name Ownership Type  \\\n",
       "0      Starbucks  47370-257954     Meritxell, 96       Licensed   \n",
       "1      Starbucks  22331-212325  Ajman Drive Thru       Licensed   \n",
       "2      Starbucks  47089-256771         Dana Mall       Licensed   \n",
       "3      Starbucks  22126-218024        Twofour 54       Licensed   \n",
       "4      Starbucks  17127-178586      Al Ain Tower       Licensed   \n",
       "...          ...           ...               ...            ...   \n",
       "25595  Starbucks  21401-212072               Rex       Licensed   \n",
       "25596  Starbucks  24010-226985          Panorama       Licensed   \n",
       "25597  Starbucks  47608-253804     Rosebank Mall       Licensed   \n",
       "25598  Starbucks  47640-253809      Menlyn Maine       Licensed   \n",
       "25599  Starbucks  47609-253286    Mall of Africa       Licensed   \n",
       "\n",
       "                                          Street Address  \\\n",
       "0                                      Av. Meritxell, 96   \n",
       "1                                   1 Street 69, Al Jarf   \n",
       "2                           Sheikh Khalifa Bin Zayed St.   \n",
       "3                                        Al Salam Street   \n",
       "4                        Khaldiya Area, Abu Dhabi Island   \n",
       "...                                                  ...   \n",
       "25595  141 Nguyễn Huệ, Quận 1, Góc đường Pasteur và L...   \n",
       "25596  SN-44, Tòa Nhà Panorama, 208 Trần Văn Trà, Quận 7   \n",
       "25597          Cnr Tyrwhitt and Cradock Avenue, Rosebank   \n",
       "25598  Shop 61B, Central Square, Cnr Aramist & Coroba...   \n",
       "25599             Shop 2077, Upper Level, Waterfall City   \n",
       "\n",
       "                        City State/Province Country Postcode  Phone Number  \\\n",
       "0           Andorra la Vella              7      AD    AD500     376818720   \n",
       "1                      Ajman             AJ      AE      NaN           NaN   \n",
       "2                      Ajman             AJ      AE      NaN           NaN   \n",
       "3                  Abu Dhabi             AZ      AE      NaN           NaN   \n",
       "4                  Abu Dhabi             AZ      AE      NaN           NaN   \n",
       "...                      ...            ...     ...      ...           ...   \n",
       "25595  Thành Phố Hồ Chí Minh             SG      VN    70000  08 3824 4668   \n",
       "25596  Thành Phố Hồ Chí Minh             SG      VN    70000  08 5413 8292   \n",
       "25597           Johannesburg             GT      ZA     2194   27873500159   \n",
       "25598                 Menlyn             GT      ZA      181           NaN   \n",
       "25599                Midrand             GT      ZA     1682   27873500215   \n",
       "\n",
       "                             Timezone  Longitude  Latitude  \n",
       "0             GMT+1:00 Europe/Andorra       1.53     42.51  \n",
       "1                GMT+04:00 Asia/Dubai      55.47     25.42  \n",
       "2                GMT+04:00 Asia/Dubai      55.47     25.39  \n",
       "3                GMT+04:00 Asia/Dubai      54.38     24.48  \n",
       "4                GMT+04:00 Asia/Dubai      54.54     24.51  \n",
       "...                               ...        ...       ...  \n",
       "25595          GMT+000000 Asia/Saigon     106.70     10.78  \n",
       "25596          GMT+000000 Asia/Saigon     106.71     10.72  \n",
       "25597  GMT+000000 Africa/Johannesburg      28.04    -26.15  \n",
       "25598  GMT+000000 Africa/Johannesburg      28.28    -25.79  \n",
       "25599  GMT+000000 Africa/Johannesburg      28.11    -26.02  \n",
       "\n",
       "[25585 rows x 13 columns]"
      ]
     },
     "execution_count": 7,
     "metadata": {},
     "output_type": "execute_result"
    }
   ],
   "source": [
    "df.dropna(axis=0,subset=[\"City\"])"
   ]
  },
  {
   "cell_type": "markdown",
   "metadata": {},
   "source": [
    "7、\t统计共有多少个国家课设了星巴克门店"
   ]
  },
  {
   "cell_type": "code",
   "execution_count": 8,
   "metadata": {},
   "outputs": [
    {
     "data": {
      "text/plain": [
       "US    13608\n",
       "CN     2734\n",
       "CA     1468\n",
       "JP     1237\n",
       "KR      993\n",
       "      ...  \n",
       "CW        3\n",
       "ZA        3\n",
       "LU        2\n",
       "MC        2\n",
       "AD        1\n",
       "Name: Country, Length: 73, dtype: int64"
      ]
     },
     "execution_count": 8,
     "metadata": {},
     "output_type": "execute_result"
    }
   ],
   "source": [
    "df.Country.value_counts()"
   ]
  },
  {
   "cell_type": "markdown",
   "metadata": {},
   "source": [
    "8、\t统计星巴克门店数量排名前10的国家"
   ]
  },
  {
   "cell_type": "code",
   "execution_count": 9,
   "metadata": {},
   "outputs": [
    {
     "name": "stdout",
     "output_type": "stream",
     "text": [
      "US    13608\n",
      "CN     2734\n",
      "CA     1468\n",
      "JP     1237\n",
      "KR      993\n",
      "GB      901\n",
      "MX      579\n",
      "TW      394\n",
      "TR      326\n",
      "PH      298\n",
      "Name: Country, dtype: int64\n"
     ]
    }
   ],
   "source": [
    "sort_ten = df.Country.value_counts().head(10)\n",
    "print(sort_ten)"
   ]
  },
  {
   "cell_type": "markdown",
   "metadata": {},
   "source": [
    "9、\t使用matplotlib将上述结果绘制成如下柱状图"
   ]
  },
  {
   "cell_type": "code",
   "execution_count": 10,
   "metadata": {},
   "outputs": [
    {
     "data": {
      "text/plain": [
       "Text(0, 0.5, 'number')"
      ]
     },
     "execution_count": 10,
     "metadata": {},
     "output_type": "execute_result"
    },
    {
     "data": {
      "image/png": "[encoded data removed]",
      "text/plain": [
       "<Figure size 432x288 with 1 Axes>"
      ]
     },
     "metadata": {
      "needs_background": "light"
     },
     "output_type": "display_data"
    }
   ],
   "source": [
    "plt.bar(sort_ten.index,sort_ten.values)\n",
    "plt.xlabel('country')\n",
    "plt.ylabel('number')"
   ]
  },
  {
   "cell_type": "markdown",
   "metadata": {},
   "source": [
    "10、 查看星巴克门店的所有权类型（Ownership Type），绘制如下饼图"
   ]
  },
  {
   "cell_type": "code",
   "execution_count": 11,
   "metadata": {},
   "outputs": [
    {
     "data": {
      "text/plain": [
       "([<matplotlib.patches.Wedge at 0x7f41c8062af0>,\n",
       "  <matplotlib.patches.Wedge at 0x7f41c8062fd0>,\n",
       "  <matplotlib.patches.Wedge at 0x7f41c8071490>,\n",
       "  <matplotlib.patches.Wedge at 0x7f41c8071910>],\n",
       " [Text(0.1169501383862651, 1.0937653610950722, 'Company Owned'),\n",
       "  Text(-0.6510331688536268, -0.8866542804568224, 'Licensed'),\n",
       "  Text(0.9286160106683695, -0.5896374349804827, 'Joint Venture'),\n",
       "  Text(1.0991677624170304, -0.04278118819222919, 'Franchise')])"
      ]
     },
     "execution_count": 11,
     "metadata": {},
     "output_type": "execute_result"
    },
    {
     "data": {
      "image/png": "[encoded data removed]",
      "text/plain": [
       "<Figure size 432x288 with 1 Axes>"
      ]
     },
     "metadata": {},
     "output_type": "display_data"
    }
   ],
   "source": [
    "starbuks_ownership = df['Ownership Type'].value_counts()\n",
    "plt.pie(x=starbuks_ownership.values,labels=starbuks_ownership.index)"
   ]
  },
  {
   "cell_type": "markdown",
   "metadata": {},
   "source": [
    "11、 统计拥有星巴克门店最多的10个城市，绘制如下柱状图。"
   ]
  },
  {
   "cell_type": "code",
   "execution_count": 12,
   "metadata": {},
   "outputs": [
    {
     "data": {
      "text/plain": [
       "Text(0, 0.5, 'number')"
      ]
     },
     "execution_count": 12,
     "metadata": {},
     "output_type": "execute_result"
    },
    {
     "data": {
      "image/png": "[encoded data removed]",
      "text/plain": [
       "<Figure size 432x288 with 1 Axes>"
      ]
     },
     "metadata": {
      "needs_background": "light"
     },
     "output_type": "display_data"
    }
   ],
   "source": [
    "top_ten = df['City'].value_counts().head(10)\n",
    "plt.bar(top_ten.index,top_ten.values)\n",
    "plt.xlabel('城市')\n",
    "plt.ylabel('number')"
   ]
  },
  {
   "cell_type": "code",
   "execution_count": null,
   "metadata": {},
   "outputs": [],
   "source": []
  },
  {
   "cell_type": "code",
   "execution_count": null,
   "metadata": {},
   "outputs": [],
   "source": []
  }
 ],
 "metadata": {
  "kernelspec": {
   "display_name": "Python 3",
   "language": "python",
   "name": "python3"
  },
  "language_info": {
   "codemirror_mode": {
    "name": "ipython",
    "version": 3
   },
   "file_extension": ".py",
   "mimetype": "text/x-python",
   "name": "python",
   "nbconvert_exporter": "python",
   "pygments_lexer": "ipython3",
   "version": "3.8.8"
  }
 },
 "nbformat": 4,
 "nbformat_minor": 4
}
