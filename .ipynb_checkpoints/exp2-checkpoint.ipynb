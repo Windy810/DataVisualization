{
 "cells": [
  {
   "cell_type": "markdown",
   "metadata": {},
   "source": [
    "1、\t利用pandas读取excel文件，tips_mod.xls"
   ]
  },
  {
   "cell_type": "code",
   "execution_count": 1,
   "metadata": {},
   "outputs": [],
   "source": [
    "import pandas as pd"
   ]
  },
  {
   "cell_type": "code",
   "execution_count": 2,
   "metadata": {},
   "outputs": [],
   "source": [
    "excel_path=\"./tips_mod.xls\""
   ]
  },
  {
   "cell_type": "code",
   "execution_count": 3,
   "metadata": {},
   "outputs": [],
   "source": [
    "d = pd.read_excel(excel_path,sheet_name='Sheet1')"
   ]
  },
  {
   "cell_type": "markdown",
   "metadata": {},
   "source": [
    "2、\t查看读入数据的前10行"
   ]
  },
  {
   "cell_type": "code",
   "execution_count": 4,
   "metadata": {},
   "outputs": [
    {
     "name": "stdout",
     "output_type": "stream",
     "text": [
      "   Unnamed: 0   消费总额    小费      性别 是否抽烟   星期   聚餐时间段  人数\n",
      "0           0  16.99  1.01  Female   No  Sun  Dinner   2\n",
      "1           1  10.34  1.66    Male   No  Sun  Dinner   3\n",
      "2           2  21.01  3.50    Male   No  Sun  Dinner   3\n",
      "3           3  23.68  3.31    Male   No  Sun  Dinner   2\n",
      "4           4  24.59  3.61  Female   No  Sun  Dinner   4\n",
      "5           5  25.29  4.71    Male   No  Sun  Dinner   4\n",
      "6           6   8.77  2.00    Male   No  Sun  Dinner   2\n",
      "7           7  26.88  3.12    Male   No  Sun  Dinner   4\n",
      "8           8  15.04  1.96    Male   No  Sun  Dinner   2\n",
      "9           9  14.78  3.23    Male   No  Sun  Dinner   2\n"
     ]
    }
   ],
   "source": [
    "print(d.head(10))"
   ]
  },
  {
   "cell_type": "markdown",
   "metadata": {},
   "source": [
    "3、\t查看数据的shape"
   ]
  },
  {
   "cell_type": "code",
   "execution_count": 5,
   "metadata": {},
   "outputs": [
    {
     "name": "stdout",
     "output_type": "stream",
     "text": [
      "(244, 8)\n"
     ]
    }
   ],
   "source": [
    "print(d.shape)"
   ]
  },
  {
   "cell_type": "markdown",
   "metadata": {},
   "source": [
    "4、\t查看数据描述信息"
   ]
  },
  {
   "cell_type": "code",
   "execution_count": 6,
   "metadata": {},
   "outputs": [
    {
     "name": "stdout",
     "output_type": "stream",
     "text": [
      "<bound method NDFrame.describe of      Unnamed: 0   消费总额    小费      性别 是否抽烟    星期   聚餐时间段  人数\n",
      "0             0  16.99  1.01  Female   No   Sun  Dinner   2\n",
      "1             1  10.34  1.66    Male   No   Sun  Dinner   3\n",
      "2             2  21.01  3.50    Male   No   Sun  Dinner   3\n",
      "3             3  23.68  3.31    Male   No   Sun  Dinner   2\n",
      "4             4  24.59  3.61  Female   No   Sun  Dinner   4\n",
      "..          ...    ...   ...     ...  ...   ...     ...  ..\n",
      "239         239  29.03  5.92    Male   No   Sat  Dinner   3\n",
      "240         240  27.18  2.00  Female  Yes   Sat  Dinner   2\n",
      "241         241  22.67  2.00    Male  Yes   Sat  Dinner   2\n",
      "242         242  17.82  1.75    Male   No   Sat  Dinner   2\n",
      "243         243  18.78  3.00  Female   No  Thur  Dinner   2\n",
      "\n",
      "[244 rows x 8 columns]>\n"
     ]
    }
   ],
   "source": [
    "print(d.describe)"
   ]
  },
  {
   "cell_type": "markdown",
   "metadata": {},
   "source": [
    "5、\t统计每列缺失值的个数"
   ]
  },
  {
   "cell_type": "code",
   "execution_count": 7,
   "metadata": {},
   "outputs": [
    {
     "name": "stdout",
     "output_type": "stream",
     "text": [
      "Unnamed: 0    0\n",
      "消费总额          0\n",
      "小费            0\n",
      "性别            0\n",
      "是否抽烟          0\n",
      "星期            0\n",
      "聚餐时间段         0\n",
      "人数            0\n",
      "dtype: int64\n"
     ]
    }
   ],
   "source": [
    "print(d.isnull().sum())"
   ]
  },
  {
   "cell_type": "markdown",
   "metadata": {},
   "source": [
    "6、\t删除一行内有两个缺失值的行"
   ]
  },
  {
   "cell_type": "code",
   "execution_count": 8,
   "metadata": {
    "scrolled": true
   },
   "outputs": [
    {
     "name": "stdout",
     "output_type": "stream",
     "text": [
      "     Unnamed: 0   消费总额    小费      性别 是否抽烟    星期   聚餐时间段  人数\n",
      "0             0  16.99  1.01  Female   No   Sun  Dinner   2\n",
      "1             1  10.34  1.66    Male   No   Sun  Dinner   3\n",
      "2             2  21.01  3.50    Male   No   Sun  Dinner   3\n",
      "3             3  23.68  3.31    Male   No   Sun  Dinner   2\n",
      "4             4  24.59  3.61  Female   No   Sun  Dinner   4\n",
      "..          ...    ...   ...     ...  ...   ...     ...  ..\n",
      "239         239  29.03  5.92    Male   No   Sat  Dinner   3\n",
      "240         240  27.18  2.00  Female  Yes   Sat  Dinner   2\n",
      "241         241  22.67  2.00    Male  Yes   Sat  Dinner   2\n",
      "242         242  17.82  1.75    Male   No   Sat  Dinner   2\n",
      "243         243  18.78  3.00  Female   No  Thur  Dinner   2\n",
      "\n",
      "[244 rows x 8 columns]\n"
     ]
    }
   ],
   "source": [
    "print(d.dropna(thresh=2,axis=0))"
   ]
  },
  {
   "cell_type": "markdown",
   "metadata": {},
   "source": [
    "7、\t删除性别或者聚餐时间为空的行"
   ]
  },
  {
   "cell_type": "code",
   "execution_count": 9,
   "metadata": {},
   "outputs": [
    {
     "name": "stdout",
     "output_type": "stream",
     "text": [
      "     Unnamed: 0   消费总额    小费      性别 是否抽烟    星期   聚餐时间段  人数\n",
      "0             0  16.99  1.01  Female   No   Sun  Dinner   2\n",
      "1             1  10.34  1.66    Male   No   Sun  Dinner   3\n",
      "2             2  21.01  3.50    Male   No   Sun  Dinner   3\n",
      "3             3  23.68  3.31    Male   No   Sun  Dinner   2\n",
      "4             4  24.59  3.61  Female   No   Sun  Dinner   4\n",
      "..          ...    ...   ...     ...  ...   ...     ...  ..\n",
      "239         239  29.03  5.92    Male   No   Sat  Dinner   3\n",
      "240         240  27.18  2.00  Female  Yes   Sat  Dinner   2\n",
      "241         241  22.67  2.00    Male  Yes   Sat  Dinner   2\n",
      "242         242  17.82  1.75    Male   No   Sat  Dinner   2\n",
      "243         243  18.78  3.00  Female   No  Thur  Dinner   2\n",
      "\n",
      "[244 rows x 8 columns]\n"
     ]
    }
   ],
   "source": [
    "print(d.dropna(subset=['性别','聚餐时间段']))"
   ]
  },
  {
   "cell_type": "markdown",
   "metadata": {},
   "source": [
    "8、\t对剩余的缺失值用该列的平均值填充"
   ]
  },
  {
   "cell_type": "code",
   "execution_count": 10,
   "metadata": {},
   "outputs": [],
   "source": [
    "for column in list(d.columns[d.isnull().sum() > 0]):\n",
    "    mean_val = d[column].mean()"
   ]
  },
  {
   "cell_type": "code",
   "execution_count": 11,
   "metadata": {},
   "outputs": [
    {
     "name": "stdout",
     "output_type": "stream",
     "text": [
      "     Unnamed: 0   消费总额    小费      性别 是否抽烟    星期   聚餐时间段  人数\n",
      "0             0  16.99  1.01  Female   No   Sun  Dinner   2\n",
      "1             1  10.34  1.66    Male   No   Sun  Dinner   3\n",
      "2             2  21.01  3.50    Male   No   Sun  Dinner   3\n",
      "3             3  23.68  3.31    Male   No   Sun  Dinner   2\n",
      "4             4  24.59  3.61  Female   No   Sun  Dinner   4\n",
      "..          ...    ...   ...     ...  ...   ...     ...  ..\n",
      "239         239  29.03  5.92    Male   No   Sat  Dinner   3\n",
      "240         240  27.18  2.00  Female  Yes   Sat  Dinner   2\n",
      "241         241  22.67  2.00    Male  Yes   Sat  Dinner   2\n",
      "242         242  17.82  1.75    Male   No   Sat  Dinner   2\n",
      "243         243  18.78  3.00  Female   No  Thur  Dinner   2\n",
      "\n",
      "[244 rows x 8 columns]\n"
     ]
    }
   ],
   "source": [
    "print(d)"
   ]
  },
  {
   "cell_type": "markdown",
   "metadata": {},
   "source": [
    "9、\t分析小费和总金额的关系, 画出散点图"
   ]
  },
  {
   "cell_type": "code",
   "execution_count": 14,
   "metadata": {},
   "outputs": [],
   "source": [
    "import matplotlib as plt"
   ]
  },
  {
   "cell_type": "code",
   "execution_count": 15,
   "metadata": {},
   "outputs": [],
   "source": [
    "plt.rcParams['font.sans-serif'] = ['SimHei']\n",
    "plt.rcParams['font.family']='sans-serif' #解决负号'-'显示为方块的问题\n",
    "plt.rcParams['axes.unicode_minus'] = False"
   ]
  },
  {
   "cell_type": "code",
   "execution_count": 16,
   "metadata": {},
   "outputs": [
    {
     "data": {
      "text/plain": [
       "<AxesSubplot:xlabel='小费', ylabel='消费总额'>"
      ]
     },
     "execution_count": 16,
     "metadata": {},
     "output_type": "execute_result"
    },
    {
     "data": {
      "image/png": "[encoded data removed]",
      "text/plain": [
       "<Figure size 432x288 with 1 Axes>"
      ]
     },
     "metadata": {
      "needs_background": "light"
     },
     "output_type": "display_data"
    }
   ],
   "source": [
    "d.plot(kind = 'scatter',x = '小费',y = '消费总额')"
   ]
  },
  {
   "cell_type": "markdown",
   "metadata": {},
   "source": [
    "10、分组看看男性还是女性的小费平均水平更高"
   ]
  },
  {
   "cell_type": "code",
   "execution_count": 17,
   "metadata": {},
   "outputs": [],
   "source": [
    "female_tip = d[d['性别'] == 'Female']['小费'].mean()"
   ]
  },
  {
   "cell_type": "code",
   "execution_count": 18,
   "metadata": {},
   "outputs": [],
   "source": [
    "male_tip = d[d['性别'] == 'Male']['小费'].mean()"
   ]
  },
  {
   "cell_type": "code",
   "execution_count": 19,
   "metadata": {},
   "outputs": [
    {
     "name": "stdout",
     "output_type": "stream",
     "text": [
      "男性小费：3.0896178343949052女性小费：2.833448275862069\n"
     ]
    }
   ],
   "source": [
    "print(\"男性小费：\"+str(male_tip)+\"女性小费：\"+str(female_tip))"
   ]
  },
  {
   "cell_type": "markdown",
   "metadata": {},
   "source": [
    "11、分析日期和小费的关系，画出柱状图"
   ]
  },
  {
   "cell_type": "code",
   "execution_count": 20,
   "metadata": {},
   "outputs": [],
   "source": [
    "average_tip  = d.groupby('星期')['小费'].mean()"
   ]
  },
  {
   "cell_type": "code",
   "execution_count": 21,
   "metadata": {},
   "outputs": [
    {
     "data": {
      "text/plain": [
       "<AxesSubplot:xlabel='星期'>"
      ]
     },
     "execution_count": 21,
     "metadata": {},
     "output_type": "execute_result"
    },
    {
     "data": {
      "image/png": "[encoded data removed]",
      "text/plain": [
       "<Figure size 432x288 with 1 Axes>"
      ]
     },
     "metadata": {
      "needs_background": "light"
     },
     "output_type": "display_data"
    }
   ],
   "source": [
    "average_tip.plot.bar()"
   ]
  },
  {
   "cell_type": "markdown",
   "metadata": {},
   "source": [
    "12、性别和抽烟书对慷慨度的影响，画出柱状图（x轴为抽烟与否+性别的组合）"
   ]
  },
  {
   "cell_type": "code",
   "execution_count": 22,
   "metadata": {},
   "outputs": [],
   "source": [
    "d['慷慨度']=d['小费']/(d['消费总额']+d['小费'])"
   ]
  },
  {
   "cell_type": "code",
   "execution_count": 23,
   "metadata": {},
   "outputs": [
    {
     "data": {
      "text/plain": [
       "<AxesSubplot:xlabel='影响因素'>"
      ]
     },
     "execution_count": 23,
     "metadata": {},
     "output_type": "execute_result"
    },
    {
     "data": {
      "image/png": "[encoded data removed]",
      "text/plain": [
       "<Figure size 432x288 with 1 Axes>"
      ]
     },
     "metadata": {
      "needs_background": "light"
     },
     "output_type": "display_data"
    }
   ],
   "source": [
    "# 构建性别+抽烟的组合因素 \n",
    "def trans (x,y):\n",
    "    if x and y: return '男性抽烟'\n",
    "    elif x: return '男性不抽烟'\n",
    "    elif y: return '女性抽烟'\n",
    "    else :return '女性不抽烟'\n",
    "mapping = {'Female':False,'Male':True,'No':False,'Yes':True}\n",
    "kangkai = d[['性别','是否抽烟','慷慨度']].replace(mapping)\n",
    "kangkai['影响因素'] = kangkai.apply(lambda x:trans(x['性别'],x['是否抽烟']),axis=1)\n",
    "\n",
    "# 绘制柱状图\n",
    "kangkai = kangkai.groupby('影响因素')['慷慨度'].mean()\n",
    "kangkai.plot.bar()"
   ]
  },
  {
   "cell_type": "code",
   "execution_count": null,
   "metadata": {},
   "outputs": [],
   "source": []
  },
  {
   "cell_type": "code",
   "execution_count": null,
   "metadata": {},
   "outputs": [],
   "source": []
  }
 ],
 "metadata": {
  "kernelspec": {
   "display_name": "Python 3",
   "language": "python",
   "name": "python3"
  },
  "language_info": {
   "codemirror_mode": {
    "name": "ipython",
    "version": 3
   },
   "file_extension": ".py",
   "mimetype": "text/x-python",
   "name": "python",
   "nbconvert_exporter": "python",
   "pygments_lexer": "ipython3",
   "version": "3.8.8"
  }
 },
 "nbformat": 4,
 "nbformat_minor": 4
}
